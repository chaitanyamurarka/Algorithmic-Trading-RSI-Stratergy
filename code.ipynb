{
 "cells": [
  {
   "cell_type": "code",
   "execution_count": null,
   "metadata": {},
   "outputs": [],
   "source": [
    "# yfinance not real time data causing issue "
   ]
  },
  {
   "cell_type": "code",
   "execution_count": 8,
   "metadata": {},
   "outputs": [],
   "source": [
    "import numpy as np\n",
    "import pandas as pd\n",
    "import time\n",
    "import yfinance as yf\n",
    "import plotly.graph_objs as go\n",
    "\n",
    "# Function to place a trade (Buy or Sell)\n",
    "def place_trade(order_type, lot_size, price):\n",
    "    # Placeholder function to simulate placing a trade\n",
    "    # Replace this with actual code to place a real trade using a trading platform or API\n",
    "    print(f\"Placing a {order_type} order for {lot_size} lots at price {price}\")\n",
    "\n",
    "stock_name = 'ADANIENT.BO'\n",
    "lot_size = 1  # Initial lot size\n",
    "profit_factor = 2  # Factor to multiply lot size in case of a loss\n",
    "\n",
    "# Wait until the start of the next minute\n",
    "current_time = pd.Timestamp.now().time()\n",
    "seconds_to_next_minute = 60 - current_time.second\n",
    "time.sleep(seconds_to_next_minute)\n",
    "\n",
    "while True:\n",
    "    # Interval required 1 minute\n",
    "    data = yf.download(tickers=stock_name, period='1d', interval='1m')\n",
    "    print(data.iloc[-1])\n",
    "\n",
    "    # Assuming 'data' contains the historical stock data fetched using yfinance\n",
    "    previous_candle = data.iloc[-1]  # Get the row for the previous candle\n",
    "\n",
    "    if previous_candle['Close'] > previous_candle['Open']:\n",
    "        print(\"Previous candle was bullish.\")\n",
    "        pre_bull_or_bear = 'bull'\n",
    "        # If bullish, buy 1 lot / stock at LIMIT with price as Close price of previous candle.\n",
    "        place_trade(\"Buy\", lot_size, previous_candle['Close'])\n",
    "    else:\n",
    "        print(\"Previous candle was bearish.\")\n",
    "        pre_bull_or_bear = 'bear'\n",
    "        # If bearish Sellshort 1 lot / stock at LIMIT with price as close price of previous candle\n",
    "        place_trade(\"Sell\", lot_size, previous_candle['Close'])\n",
    "\n",
    "    # Wait until the end of the current minute (59th second of the minute)\n",
    "    current_time = pd.Timestamp.now().time()\n",
    "    seconds_to_next_minute = 57 - current_time.second\n",
    "    time.sleep(seconds_to_next_minute)\n",
    "    # IMP cancel all pending orders\n",
    "    data = yf.download(tickers=stock_name, period='1d', interval='1m')\n",
    "    print(data.iloc[-1])\n",
    "    current_candle = data.iloc[-1]\n",
    "\n",
    "    if pre_bull_or_bear == 'bull':\n",
    "        # At the end of the candle, check if the position is profitable\n",
    "        if previous_candle['Close'] < current_candle['Close']:\n",
    "            # The position was profitable, keep the lot size at 1\n",
    "            print(\"Position was profitable. Keeping lot size at 1.\")\n",
    "            lot_size = 1\n",
    "        else:\n",
    "            # The position was a loss, multiply lot size by profit_factor\n",
    "            print(\"Position was a loss. Multiplying lot size by 2.\")\n",
    "            lot_size *= profit_factor\n",
    "    else:\n",
    "        # At the end of the candle, check if the position is profitable\n",
    "        if previous_candle['Close'] > current_candle['Close']:\n",
    "            # The position was profitable, keep the lot size at 1\n",
    "            print(\"Position was profitable. Keeping lot size at 1.\")\n",
    "            lot_size = 1\n",
    "        else:\n",
    "            # The position was a loss, multiply lot size by profit_factor\n",
    "            print(\"Position was a loss. Multiplying lot size by 2.\")\n",
    "            lot_size *= profit_factor"
   ]
  },
  {
   "cell_type": "code",
   "execution_count": null,
   "metadata": {},
   "outputs": [],
   "source": []
  }
 ],
 "metadata": {
  "kernelspec": {
   "display_name": "Python 3",
   "language": "python",
   "name": "python3"
  },
  "language_info": {
   "codemirror_mode": {
    "name": "ipython",
    "version": 3
   },
   "file_extension": ".py",
   "mimetype": "text/x-python",
   "name": "python",
   "nbconvert_exporter": "python",
   "pygments_lexer": "ipython3",
   "version": "3.11.3"
  },
  "orig_nbformat": 4
 },
 "nbformat": 4,
 "nbformat_minor": 2
}
